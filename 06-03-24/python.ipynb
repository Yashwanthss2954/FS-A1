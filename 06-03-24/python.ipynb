{
 "cells": [
  {
   "cell_type": "code",
   "execution_count": null,
   "metadata": {},
   "outputs": [],
   "source": [
    "def is_prime(x):\n",
    "    if x < 2:\n",
    "        return False\n",
    "    for i in range(2, int(x**0.5) + 1):\n",
    "        if x % i == 0:\n",
    "            return False\n",
    "    return True\n",
    "\n",
    "n1 = int(input())\n",
    "n2 = int(input())\n",
    "r = 0\n",
    "\n",
    "for num in range(n1, n2 + 1):\n",
    "    c = bin(num).count('1')\n",
    "    if is_prime(c):\n",
    "        r += 1\n",
    "\n",
    "print(r)"
   ]
  }
 ],
 "metadata": {
  "language_info": {
   "name": "python"
  },
  "orig_nbformat": 4
 },
 "nbformat": 4,
 "nbformat_minor": 2
}
